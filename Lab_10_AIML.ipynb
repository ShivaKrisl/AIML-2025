{
  "nbformat": 4,
  "nbformat_minor": 0,
  "metadata": {
    "colab": {
      "provenance": [],
      "authorship_tag": "ABX9TyNYX/b0CYG2kVj3lACV/dv9",
      "include_colab_link": true
    },
    "kernelspec": {
      "name": "python3",
      "display_name": "Python 3"
    },
    "language_info": {
      "name": "python"
    }
  },
  "cells": [
    {
      "cell_type": "markdown",
      "metadata": {
        "id": "view-in-github",
        "colab_type": "text"
      },
      "source": [
        "<a href=\"https://colab.research.google.com/github/kirankumareranki/AIML-2025/blob/main/Lab_10_AIML.ipynb\" target=\"_parent\"><img src=\"https://colab.research.google.com/assets/colab-badge.svg\" alt=\"Open In Colab\"/></a>"
      ]
    },
    {
      "cell_type": "markdown",
      "source": [
        "## Implement K-Means Clustering using Household Electricity Consumption Dataset."
      ],
      "metadata": {
        "id": "A7KJNgdx3uVC"
      }
    },
    {
      "cell_type": "code",
      "source": [
        "!pip install ucimlrepo"
      ],
      "metadata": {
        "id": "IeDq364R34UB"
      },
      "execution_count": null,
      "outputs": []
    },
    {
      "cell_type": "code",
      "source": [
        "from ucimlrepo import fetch_ucirepo\n",
        "\n",
        "# fetch dataset\n",
        "power_com = fetch_ucirepo(id=235)"
      ],
      "metadata": {
        "id": "faNmbKkb39_p"
      },
      "execution_count": null,
      "outputs": []
    },
    {
      "cell_type": "code",
      "source": [
        "# data (as pandas dataframes)\n",
        "X = power_com.data.features\n",
        "y = power_com.data.targets"
      ],
      "metadata": {
        "id": "u7UCyGxG4JDQ"
      },
      "execution_count": 8,
      "outputs": []
    }
  ]
}