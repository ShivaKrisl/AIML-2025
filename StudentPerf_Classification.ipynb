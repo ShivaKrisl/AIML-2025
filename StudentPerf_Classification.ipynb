{
  "nbformat": 4,
  "nbformat_minor": 0,
  "metadata": {
    "colab": {
      "provenance": [],
      "authorship_tag": "ABX9TyOLqoZ8Xw+d5ebjZLinXyoB",
      "include_colab_link": true
    },
    "kernelspec": {
      "name": "python3",
      "display_name": "Python 3"
    },
    "language_info": {
      "name": "python"
    }
  },
  "cells": [
    {
      "cell_type": "markdown",
      "metadata": {
        "id": "view-in-github",
        "colab_type": "text"
      },
      "source": [
        "<a href=\"https://colab.research.google.com/github/kirankumareranki/AIML-2025/blob/main/StudentPerf_Classification.ipynb\" target=\"_parent\"><img src=\"https://colab.research.google.com/assets/colab-badge.svg\" alt=\"Open In Colab\"/></a>"
      ]
    },
    {
      "cell_type": "markdown",
      "source": [
        "##Predict Student Performance at High School using Portegese High School Dataset Applying Classifer Model"
      ],
      "metadata": {
        "id": "hnoKOfU_z9DS"
      }
    },
    {
      "cell_type": "code",
      "source": [
        "pip install ucimlrepo"
      ],
      "metadata": {
        "colab": {
          "base_uri": "https://localhost:8080/"
        },
        "id": "m4QksWHI0Ryd",
        "outputId": "eeb29934-5cb2-4e33-e1e3-074609fe2c3a"
      },
      "execution_count": 1,
      "outputs": [
        {
          "output_type": "stream",
          "name": "stdout",
          "text": [
            "Collecting ucimlrepo\n",
            "  Downloading ucimlrepo-0.0.7-py3-none-any.whl.metadata (5.5 kB)\n",
            "Requirement already satisfied: pandas>=1.0.0 in /usr/local/lib/python3.10/dist-packages (from ucimlrepo) (2.2.2)\n",
            "Requirement already satisfied: certifi>=2020.12.5 in /usr/local/lib/python3.10/dist-packages (from ucimlrepo) (2024.8.30)\n",
            "Requirement already satisfied: numpy>=1.22.4 in /usr/local/lib/python3.10/dist-packages (from pandas>=1.0.0->ucimlrepo) (1.26.4)\n",
            "Requirement already satisfied: python-dateutil>=2.8.2 in /usr/local/lib/python3.10/dist-packages (from pandas>=1.0.0->ucimlrepo) (2.8.2)\n",
            "Requirement already satisfied: pytz>=2020.1 in /usr/local/lib/python3.10/dist-packages (from pandas>=1.0.0->ucimlrepo) (2024.2)\n",
            "Requirement already satisfied: tzdata>=2022.7 in /usr/local/lib/python3.10/dist-packages (from pandas>=1.0.0->ucimlrepo) (2024.2)\n",
            "Requirement already satisfied: six>=1.5 in /usr/local/lib/python3.10/dist-packages (from python-dateutil>=2.8.2->pandas>=1.0.0->ucimlrepo) (1.16.0)\n",
            "Downloading ucimlrepo-0.0.7-py3-none-any.whl (8.0 kB)\n",
            "Installing collected packages: ucimlrepo\n",
            "Successfully installed ucimlrepo-0.0.7\n"
          ]
        }
      ]
    },
    {
      "cell_type": "code",
      "source": [
        "from ucimlrepo import fetch_ucirepo\n",
        "\n",
        "# fetch dataset\n",
        "student_perf = fetch_ucirepo(id=320)\n",
        "\n",
        "# data (as pandas dataframes)\n",
        "X = student_performance.data.features\n",
        "y = student_performance.data.targets"
      ],
      "metadata": {
        "id": "F4RCVWpW0cTN"
      },
      "execution_count": 3,
      "outputs": []
    },
    {
      "cell_type": "code",
      "source": [
        "student_perf.keys()"
      ],
      "metadata": {
        "colab": {
          "base_uri": "https://localhost:8080/"
        },
        "id": "QcRcP5L70jS6",
        "outputId": "1da2d1e0-1a4c-4a15-d925-86e5d928f50c"
      },
      "execution_count": 4,
      "outputs": [
        {
          "output_type": "execute_result",
          "data": {
            "text/plain": [
              "dict_keys(['data', 'metadata', 'variables'])"
            ]
          },
          "metadata": {},
          "execution_count": 4
        }
      ]
    },
    {
      "cell_type": "code",
      "source": [
        "student_perf.data.features.columns\n",
        "student_perf.data.targets.columns"
      ],
      "metadata": {
        "colab": {
          "base_uri": "https://localhost:8080/"
        },
        "id": "oOQGlImV0t67",
        "outputId": "4afccccc-7180-403a-815a-53fdbcc150f4"
      },
      "execution_count": 8,
      "outputs": [
        {
          "output_type": "execute_result",
          "data": {
            "text/plain": [
              "Index(['G1', 'G2', 'G3'], dtype='object')"
            ]
          },
          "metadata": {},
          "execution_count": 8
        }
      ]
    },
    {
      "cell_type": "code",
      "source": [
        "print(f\" Top 5 reasons for school dropouts:\\n{student_perf.data.features.sort_values(by='school', ascending=False)}\")"
      ],
      "metadata": {
        "colab": {
          "base_uri": "https://localhost:8080/"
        },
        "id": "UjOMS6BF1mrh",
        "outputId": "7d7aceab-196e-447a-ac0c-5a32088a0a42"
      },
      "execution_count": 11,
      "outputs": [
        {
          "output_type": "stream",
          "name": "stdout",
          "text": [
            " Top 5 reasons for school dropouts:\n",
            "    school sex  age address famsize Pstatus  Medu  Fedu      Mjob      Fjob  \\\n",
            "648     MS   M   18       R     LE3       T     3     2  services     other   \n",
            "478     MS   F   16       R     GT3       T     1     1   at_home     other   \n",
            "505     MS   F   17       R     GT3       T     1     1   at_home     other   \n",
            "504     MS   F   19       U     LE3       T     2     2     other     other   \n",
            "503     MS   F   16       U     GT3       T     1     1     other     other   \n",
            "..     ...  ..  ...     ...     ...     ...   ...   ...       ...       ...   \n",
            "218     GP   F   16       R     GT3       T     2     2  services  services   \n",
            "219     GP   F   17       U     GT3       T     3     4   at_home  services   \n",
            "220     GP   F   16       U     GT3       A     3     1  services     other   \n",
            "221     GP   F   16       U     GT3       T     4     3   teacher     other   \n",
            "324     GP   M   18       U     GT3       T     1     2   at_home     other   \n",
            "\n",
            "     ... higher internet  romantic  famrel  freetime goout Dalc Walc health  \\\n",
            "648  ...    yes      yes        no       4         4     1    3    4      5   \n",
            "478  ...    yes       no        no       3         4     3    1    1      1   \n",
            "505  ...    yes      yes       yes       4         4     5    1    2      5   \n",
            "504  ...    yes      yes       yes       5         4     5    1    1      1   \n",
            "503  ...    yes      yes        no       2         2     1    1    1      5   \n",
            "..   ...    ...      ...       ...     ...       ...   ...  ...  ...    ...   \n",
            "218  ...    yes      yes        no       5         3     5    1    1      5   \n",
            "219  ...    yes      yes       yes       4         4     3    3    4      5   \n",
            "220  ...    yes      yes        no       2         3     3    2    2      4   \n",
            "221  ...    yes      yes       yes       1         3     2    1    1      1   \n",
            "324  ...     no      yes        no       3         4     4    2    4      4   \n",
            "\n",
            "    absences  \n",
            "648        4  \n",
            "478        0  \n",
            "505        0  \n",
            "504        0  \n",
            "503        0  \n",
            "..       ...  \n",
            "218        6  \n",
            "219       14  \n",
            "220        2  \n",
            "221        4  \n",
            "324       10  \n",
            "\n",
            "[649 rows x 30 columns]\n"
          ]
        }
      ]
    },
    {
      "cell_type": "code",
      "source": [
        "import numpy as np\n",
        "import pandas as pd\n",
        "import matplotlib.pyplot as plt\n",
        "import seaborn as sns\n",
        "%matplotlib inline"
      ],
      "metadata": {
        "id": "gynQ-Atc2tmK"
      },
      "execution_count": 13,
      "outputs": []
    },
    {
      "cell_type": "code",
      "source": [
        "student_perf.data.features['age'].head()"
      ],
      "metadata": {
        "colab": {
          "base_uri": "https://localhost:8080/",
          "height": 238
        },
        "id": "PR2c3_B83lJQ",
        "outputId": "4019176e-92d5-4cd5-e179-ce6f51fe8129"
      },
      "execution_count": 22,
      "outputs": [
        {
          "output_type": "execute_result",
          "data": {
            "text/plain": [
              "0    18\n",
              "1    17\n",
              "2    15\n",
              "3    15\n",
              "4    16\n",
              "Name: age, dtype: int64"
            ],
            "text/html": [
              "<div>\n",
              "<style scoped>\n",
              "    .dataframe tbody tr th:only-of-type {\n",
              "        vertical-align: middle;\n",
              "    }\n",
              "\n",
              "    .dataframe tbody tr th {\n",
              "        vertical-align: top;\n",
              "    }\n",
              "\n",
              "    .dataframe thead th {\n",
              "        text-align: right;\n",
              "    }\n",
              "</style>\n",
              "<table border=\"1\" class=\"dataframe\">\n",
              "  <thead>\n",
              "    <tr style=\"text-align: right;\">\n",
              "      <th></th>\n",
              "      <th>age</th>\n",
              "    </tr>\n",
              "  </thead>\n",
              "  <tbody>\n",
              "    <tr>\n",
              "      <th>0</th>\n",
              "      <td>18</td>\n",
              "    </tr>\n",
              "    <tr>\n",
              "      <th>1</th>\n",
              "      <td>17</td>\n",
              "    </tr>\n",
              "    <tr>\n",
              "      <th>2</th>\n",
              "      <td>15</td>\n",
              "    </tr>\n",
              "    <tr>\n",
              "      <th>3</th>\n",
              "      <td>15</td>\n",
              "    </tr>\n",
              "    <tr>\n",
              "      <th>4</th>\n",
              "      <td>16</td>\n",
              "    </tr>\n",
              "  </tbody>\n",
              "</table>\n",
              "</div><br><label><b>dtype:</b> int64</label>"
            ]
          },
          "metadata": {},
          "execution_count": 22
        }
      ]
    },
    {
      "cell_type": "code",
      "source": [
        "print(f\"Maximum Age Group of Students\\n{np.max(student_perf.data.features['age'])}\")\n",
        "print(f\"Minimum Age Group of Students\\n{np.min(student_perf.data.features['age'])}\")\n",
        "print(f\"Mean Age Group of Students\\n{np.mean(student_perf.data.features['age'])}\")\n",
        "print(f\"Median Age Group of Students\\n{np.median(student_perf.data.features['age'])}\")"
      ],
      "metadata": {
        "colab": {
          "base_uri": "https://localhost:8080/"
        },
        "id": "7qUk7ZVG3MbF",
        "outputId": "584caebc-d9b5-4335-ef25-91fe9bae04cd"
      },
      "execution_count": 24,
      "outputs": [
        {
          "output_type": "stream",
          "name": "stdout",
          "text": [
            "Maximum Age Group of Students\n",
            "22\n",
            "Minimum Age Group of Students\n",
            "15\n",
            "Mean Age Group of Students\n",
            "16.7442218798151\n",
            "Median Age Group of Students\n",
            "17.0\n"
          ]
        }
      ]
    }
  ]
}