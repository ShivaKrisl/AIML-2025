{
  "nbformat": 4,
  "nbformat_minor": 0,
  "metadata": {
    "colab": {
      "provenance": [],
      "include_colab_link": true
    },
    "kernelspec": {
      "name": "python3",
      "display_name": "Python 3"
    },
    "language_info": {
      "name": "python"
    }
  },
  "cells": [
    {
      "cell_type": "markdown",
      "metadata": {
        "id": "view-in-github",
        "colab_type": "text"
      },
      "source": [
        "<a href=\"https://colab.research.google.com/github/kirankumareranki/AIML-2025/blob/main/Lab10-AIML.ipynb\" target=\"_parent\"><img src=\"https://colab.research.google.com/assets/colab-badge.svg\" alt=\"Open In Colab\"/></a>"
      ]
    },
    {
      "cell_type": "markdown",
      "source": [
        "## Implement K-Means Clustering using Household Electricity Consumption Dataset."
      ],
      "metadata": {
        "id": "A7KJNgdx3uVC"
      }
    },
    {
      "cell_type": "code",
      "source": [
        "!pip install ucimlrepo"
      ],
      "metadata": {
        "id": "IeDq364R34UB",
        "outputId": "1b48309f-5062-4e36-f8e1-4953ef816bdf",
        "colab": {
          "base_uri": "https://localhost:8080/"
        }
      },
      "execution_count": 1,
      "outputs": [
        {
          "output_type": "stream",
          "name": "stdout",
          "text": [
            "Collecting ucimlrepo\n",
            "  Downloading ucimlrepo-0.0.7-py3-none-any.whl.metadata (5.5 kB)\n",
            "Requirement already satisfied: pandas>=1.0.0 in /usr/local/lib/python3.10/dist-packages (from ucimlrepo) (2.2.2)\n",
            "Requirement already satisfied: certifi>=2020.12.5 in /usr/local/lib/python3.10/dist-packages (from ucimlrepo) (2024.8.30)\n",
            "Requirement already satisfied: numpy>=1.22.4 in /usr/local/lib/python3.10/dist-packages (from pandas>=1.0.0->ucimlrepo) (1.26.4)\n",
            "Requirement already satisfied: python-dateutil>=2.8.2 in /usr/local/lib/python3.10/dist-packages (from pandas>=1.0.0->ucimlrepo) (2.8.2)\n",
            "Requirement already satisfied: pytz>=2020.1 in /usr/local/lib/python3.10/dist-packages (from pandas>=1.0.0->ucimlrepo) (2024.2)\n",
            "Requirement already satisfied: tzdata>=2022.7 in /usr/local/lib/python3.10/dist-packages (from pandas>=1.0.0->ucimlrepo) (2024.2)\n",
            "Requirement already satisfied: six>=1.5 in /usr/local/lib/python3.10/dist-packages (from python-dateutil>=2.8.2->pandas>=1.0.0->ucimlrepo) (1.16.0)\n",
            "Downloading ucimlrepo-0.0.7-py3-none-any.whl (8.0 kB)\n",
            "Installing collected packages: ucimlrepo\n",
            "Successfully installed ucimlrepo-0.0.7\n"
          ]
        }
      ]
    },
    {
      "cell_type": "code",
      "source": [
        "from ucimlrepo import fetch_ucirepo\n",
        "\n",
        "# fetch dataset\n",
        "power_com = fetch_ucirepo(id=235)"
      ],
      "metadata": {
        "id": "faNmbKkb39_p",
        "outputId": "06f10b33-9fa6-40ad-b12f-8ddee5767644",
        "colab": {
          "base_uri": "https://localhost:8080/"
        }
      },
      "execution_count": 2,
      "outputs": [
        {
          "output_type": "stream",
          "name": "stderr",
          "text": [
            "/usr/local/lib/python3.10/dist-packages/ucimlrepo/fetch.py:97: DtypeWarning: Columns (2,3,4,5,6,7) have mixed types. Specify dtype option on import or set low_memory=False.\n",
            "  df = pd.read_csv(data_url)\n"
          ]
        }
      ]
    },
    {
      "cell_type": "code",
      "source": [
        "# data (as pandas dataframes)\n",
        "X = power_com.data.features\n",
        "y = power_com.data.targets"
      ],
      "metadata": {
        "id": "u7UCyGxG4JDQ"
      },
      "execution_count": 3,
      "outputs": []
    },
    {
      "cell_type": "code",
      "source": [
        "import numpy as np\n",
        "import pandas as pd\n",
        "import matplotlib.pyplot as plt\n",
        "import seaborn as sns\n",
        "%matplotlib inline"
      ],
      "metadata": {
        "id": "LxGZaZaFh5H7"
      },
      "execution_count": 15,
      "outputs": []
    },
    {
      "cell_type": "code",
      "source": [
        "print(f\"Top 5 Elecricity Consumption features:\\n{power_com.data.features.sort_values(by='Date', ascending=False).head()}\")\n",
        "\n"
      ],
      "metadata": {
        "id": "xCiCbg62jQFb",
        "outputId": "ca1ac5aa-c2f4-4fba-a2f2-cd7e3523b931",
        "colab": {
          "base_uri": "https://localhost:8080/"
        }
      },
      "execution_count": 18,
      "outputs": [
        {
          "output_type": "stream",
          "name": "stdout",
          "text": [
            "Top 5 Elecricity Consumption features:\n",
            "             Date      Time Global_active_power Global_reactive_power  \\\n",
            "1961817  9/9/2010  02:21:00               0.238                 0.052   \n",
            "1962837  9/9/2010  19:21:00               0.390                 0.132   \n",
            "1962857  9/9/2010  19:41:00               2.938                 0.436   \n",
            "1962856  9/9/2010  19:40:00               2.898                 0.416   \n",
            "1962855  9/9/2010  19:39:00               2.886                 0.398   \n",
            "\n",
            "         Voltage Global_intensity Sub_metering_1 Sub_metering_2  \\\n",
            "1961817  239.790            1.000          0.000          1.000   \n",
            "1962837  243.580            1.600          0.000          0.000   \n",
            "1962857  241.510           12.200          0.000         38.000   \n",
            "1962856  241.090           12.000          0.000         38.000   \n",
            "1962855  241.070           12.000          0.000         38.000   \n",
            "\n",
            "         Sub_metering_3  \n",
            "1961817             1.0  \n",
            "1962837             1.0  \n",
            "1962857             1.0  \n",
            "1962856             1.0  \n",
            "1962855             0.0  \n"
          ]
        }
      ]
    },
    {
      "cell_type": "code",
      "source": [
        "print(f\"Top 5 Voltage Consumption features:\\n{power_com.data.features.sort_values(by='Date', ascending=True).tail()}\")\n"
      ],
      "metadata": {
        "id": "qPPqutQojtWH",
        "outputId": "067ec164-98da-4a50-e447-d907abef2365",
        "colab": {
          "base_uri": "https://localhost:8080/"
        }
      },
      "execution_count": 22,
      "outputs": [
        {
          "output_type": "stream",
          "name": "stdout",
          "text": [
            "Top 5 Voltage Consumption features:\n",
            "             Date      Time Global_active_power Global_reactive_power  \\\n",
            "1962153  9/9/2010  07:57:00               1.430                 0.080   \n",
            "1962152  9/9/2010  07:56:00               1.428                 0.076   \n",
            "1962151  9/9/2010  07:55:00               1.392                 0.000   \n",
            "1962149  9/9/2010  07:53:00               1.392                 0.000   \n",
            "1961677  9/9/2010  00:01:00               0.808                 0.116   \n",
            "\n",
            "         Voltage Global_intensity Sub_metering_1 Sub_metering_2  \\\n",
            "1962153  239.200            6.000          0.000          1.000   \n",
            "1962152  238.390            6.000          0.000          1.000   \n",
            "1962151  238.050            5.800          0.000          0.000   \n",
            "1962149  238.610            5.800          0.000          0.000   \n",
            "1961677  246.140            3.400          0.000          0.000   \n",
            "\n",
            "         Sub_metering_3  \n",
            "1962153            18.0  \n",
            "1962152            18.0  \n",
            "1962151            18.0  \n",
            "1962149            18.0  \n",
            "1961677             1.0  \n"
          ]
        }
      ]
    },
    {
      "cell_type": "code",
      "source": [
        "power_com_df = pd.DataFrame(power_com, columns=power_com.feature_names)\n",
        "power_com_df.head()"
      ],
      "metadata": {
        "id": "ctuU-t-dkTyP",
        "outputId": "0d53c4fc-beb3-4b90-e17f-35a6aa9509c3",
        "colab": {
          "base_uri": "https://localhost:8080/",
          "height": 156
        }
      },
      "execution_count": 23,
      "outputs": [
        {
          "output_type": "error",
          "ename": "NameError",
          "evalue": "name 'power_con' is not defined",
          "traceback": [
            "\u001b[0;31m---------------------------------------------------------------------------\u001b[0m",
            "\u001b[0;31mNameError\u001b[0m                                 Traceback (most recent call last)",
            "\u001b[0;32m<ipython-input-23-a4bfb0303b27>\u001b[0m in \u001b[0;36m<cell line: 1>\u001b[0;34m()\u001b[0m\n\u001b[0;32m----> 1\u001b[0;31m \u001b[0mpower_con_df\u001b[0m \u001b[0;34m=\u001b[0m \u001b[0mpd\u001b[0m\u001b[0;34m.\u001b[0m\u001b[0mDataFrame\u001b[0m\u001b[0;34m(\u001b[0m\u001b[0mpower_con\u001b[0m\u001b[0;34m,\u001b[0m \u001b[0mcolumns\u001b[0m\u001b[0;34m=\u001b[0m\u001b[0mpower_con\u001b[0m\u001b[0;34m.\u001b[0m\u001b[0mfeature_names\u001b[0m\u001b[0;34m)\u001b[0m\u001b[0;34m\u001b[0m\u001b[0;34m\u001b[0m\u001b[0m\n\u001b[0m\u001b[1;32m      2\u001b[0m \u001b[0mpower_con_df\u001b[0m\u001b[0;34m.\u001b[0m\u001b[0mhead\u001b[0m\u001b[0;34m(\u001b[0m\u001b[0;34m)\u001b[0m\u001b[0;34m\u001b[0m\u001b[0;34m\u001b[0m\u001b[0m\n",
            "\u001b[0;31mNameError\u001b[0m: name 'power_con' is not defined"
          ]
        }
      ]
    }
  ]
}